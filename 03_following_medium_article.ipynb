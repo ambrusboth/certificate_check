{
 "cells": [
  {
   "cell_type": "markdown",
   "metadata": {},
   "source": [
    "Based on: https://medium.com/@vkmauryavk/resolving-sslcertverificationerror-certificate-verify-failed-unable-to-get-local-issuer-515d7317454f\n",
    "\n",
    "Set the `REQUESTS_CA_BUNDLE` environemnt variable globally"
   ]
  },
  {
   "cell_type": "code",
   "execution_count": 8,
   "metadata": {},
   "outputs": [
    {
     "name": "stdout",
     "output_type": "stream",
     "text": [
      "/home/aboth/.cache/pypoetry/virtualenvs/certificate-check-mCHw_hGy-py3.12/lib/python3.12/site-packages/certifi/cacert.pem\n"
     ]
    }
   ],
   "source": [
    "import certifi\n",
    "\n",
    "print(certifi.where())"
   ]
  },
  {
   "cell_type": "code",
   "execution_count": 9,
   "metadata": {},
   "outputs": [
    {
     "data": {
      "text/plain": [
       "'/home/aboth/.cache/pypoetry/virtualenvs/certificate-check-mCHw_hGy-py3.12/lib/python3.12/site-packages/certifi/cacert.pem'"
      ]
     },
     "execution_count": 9,
     "metadata": {},
     "output_type": "execute_result"
    }
   ],
   "source": [
    "import os\n",
    "\n",
    "env_key = \"REQUESTS_CA_BUNDLE\"\n",
    "if not env_key in os.environ:\n",
    "    os.environ[env_key] = certifi.where()\n",
    "os.environ[env_key]"
   ]
  },
  {
   "cell_type": "code",
   "execution_count": 12,
   "metadata": {},
   "outputs": [
    {
     "name": "stdout",
     "output_type": "stream",
     "text": [
      "200\n",
      "{\"type\":\"general\",\"setup\":\"What did the ocean say to the shore?\",\"punchline\":\"Nothing, it just waved.\",\"id\":179}\n"
     ]
    }
   ],
   "source": [
    "import requests\n",
    "\n",
    "url = \"https://official-joke-api.appspot.com/random_joke\"\n",
    "response = requests.get(url, verify=True)\n",
    "print(response.status_code)\n",
    "print(response.text)"
   ]
  },
  {
   "cell_type": "code",
   "execution_count": null,
   "metadata": {},
   "outputs": [],
   "source": []
  }
 ],
 "metadata": {
  "kernelspec": {
   "display_name": "certificate-check-mCHw_hGy-py3.12",
   "language": "python",
   "name": "python3"
  },
  "language_info": {
   "codemirror_mode": {
    "name": "ipython",
    "version": 3
   },
   "file_extension": ".py",
   "mimetype": "text/x-python",
   "name": "python",
   "nbconvert_exporter": "python",
   "pygments_lexer": "ipython3",
   "version": "3.12.3"
  }
 },
 "nbformat": 4,
 "nbformat_minor": 2
}
